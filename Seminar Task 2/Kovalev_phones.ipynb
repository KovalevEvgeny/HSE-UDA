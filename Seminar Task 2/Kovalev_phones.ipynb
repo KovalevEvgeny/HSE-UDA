{
 "cells": [
  {
   "cell_type": "markdown",
   "metadata": {},
   "source": [
    "В данном задании нужно было попрактиковаться в работе с регулярными выражениями, а именно - написать программу, определяющую, является ли то, что подается ей на вход, номером телефона, или нет.\n",
    "\n",
    "При решении рассматривались лишь российские номера: возможно, начинающиеся с +7, 7, 8, далее, возможно, шел трехзначный код (в скобках либо нет), а затем - семизначный номер. Стоит отметить, что для усложнения себе задачи было выдвинуто предположение, что в семизначном номере цифры могут разделяться пробелом либо тире на блоки, но два блока из одной цифры быть соседними не могут (вряд ли кто-то будет записывать так номер, скорее всего, эти два блока сольются в один, двузначный). То есть, 1-23-4-56-7 является номером телефона, а 1-23-4-5-67 - нет.\n",
    "\n",
    "Далее записано регулярное выражение, являющееся решением задачи. Для проверки программы был составлен файл 'phones.txt', где содержатся тестовые номера (первые 20 строчек являются \"фальшивыми номерами\", все остальные верны). В файл 'phones_result.txt' выводится соответствующий набор строчек 'YES' или 'NO' в зависимости от того, являются ли номера номерами телефонов."
   ]
  },
  {
   "cell_type": "code",
   "execution_count": 1,
   "metadata": {
    "collapsed": true
   },
   "outputs": [],
   "source": [
    "import re"
   ]
  },
  {
   "cell_type": "code",
   "execution_count": 2,
   "metadata": {
    "collapsed": true
   },
   "outputs": [],
   "source": [
    "with open('phones.txt') as f:\n",
    "    phones = f.readlines()\n",
    "phones = list(map(lambda x: re.sub('\\n', '', x), phones))"
   ]
  },
  {
   "cell_type": "code",
   "execution_count": 3,
   "metadata": {
    "collapsed": true
   },
   "outputs": [],
   "source": [
    "result = []\n",
    "for p in phones:\n",
    "    if re.match(r'^(((8|7|\\+7)[ \\-]?)?(\\(?\\d{3}\\)?[ \\-]?))?\\d([ \\-]\\d{2}([ \\-]\\d(\\d([ \\-]\\d|\\d[ \\-]?)|[ \\-]\\d{2}[ \\-]?)|\\d([ \\-]\\d([ \\-]\\d|\\d[ \\-]?)|\\d([ \\-]\\d|\\d[ \\-]?)))|\\d([ \\-]\\d([ \\-]\\d{2}([ \\-]\\d|\\d[ \\-]?)|\\d([ \\-]\\d([ \\-]\\d|\\d[ \\-]?)|\\d([ \\-]\\d|\\d[ \\-]?)))|\\d([ \\-]\\d([ \\-]\\d{2}[ \\-]?|\\d([ \\-]\\d|\\d[ \\-]?))|\\d([ \\-]\\d([ \\-]\\d|\\d[ \\-]?)|\\d([ \\-]\\d|\\d[ \\-]?)))))\\d$', p):\n",
    "        result.append('YES')\n",
    "    else:\n",
    "        result.append('NO')"
   ]
  },
  {
   "cell_type": "code",
   "execution_count": 4,
   "metadata": {
    "collapsed": true
   },
   "outputs": [],
   "source": [
    "output = open('phones_result.txt', 'w')\n",
    "output.write('\\n'.join(result))\n",
    "output.close()"
   ]
  }
 ],
 "metadata": {
  "kernelspec": {
   "display_name": "Python 3",
   "language": "python",
   "name": "python3"
  },
  "language_info": {
   "codemirror_mode": {
    "name": "ipython",
    "version": 3
   },
   "file_extension": ".py",
   "mimetype": "text/x-python",
   "name": "python",
   "nbconvert_exporter": "python",
   "pygments_lexer": "ipython3",
   "version": "3.6.3"
  }
 },
 "nbformat": 4,
 "nbformat_minor": 2
}
