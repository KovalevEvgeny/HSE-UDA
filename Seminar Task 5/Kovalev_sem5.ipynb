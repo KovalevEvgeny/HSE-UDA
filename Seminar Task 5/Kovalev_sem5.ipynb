{
 "cells": [
  {
   "cell_type": "markdown",
   "metadata": {},
   "source": [
    "## Работу выполнил Ковалев Евгений, студент 4 курса бакалавриата факультета математики НИУ ВШЭ"
   ]
  },
  {
   "cell_type": "markdown",
   "metadata": {},
   "source": [
    "В данном задании нужно было попрактиковаться в работе с цепями Маркова для автоматической генерации текстов. Необходимо было написать код для генерации предложений на основе цепей Маркова порядка N (где N — натуральное число) и проверить его качество на тексте «Старик и море».\n",
    "\n",
    "Класс Dictogram и функция make_markov_model были даны на семинаре, их я не менял."
   ]
  },
  {
   "cell_type": "markdown",
   "metadata": {},
   "source": [
    "https://tproger.ru/translations/markov-chains/"
   ]
  },
  {
   "cell_type": "markdown",
   "metadata": {},
   "source": [
    "# Цепи Маркова для автоматической генерации тектов"
   ]
  },
  {
   "cell_type": "markdown",
   "metadata": {},
   "source": [
    "## Структура данных Dictogram"
   ]
  },
  {
   "cell_type": "markdown",
   "metadata": {},
   "source": [
    "Dictogram (dict — встроенный тип данных словарь в Python) будет отображать зависимость между звеньями и их частотой появления в тексте, то есть их распределение. Но при этом она будет обладать нужным нам свойством словаря — время выполнения программы не будет зависеть от объема входных данных, а это значит, мы создаем эффективный алгоритм."
   ]
  },
  {
   "cell_type": "code",
   "execution_count": 2,
   "metadata": {
    "collapsed": true
   },
   "outputs": [],
   "source": [
    "import random\n",
    "\n",
    "class Dictogram(dict):\n",
    "    def __init__(self, iterable=None):\n",
    "        # Инициализируем наше распределение как новый объект класса, \n",
    "        # добавляем имеющиеся элементы\n",
    "        super(Dictogram, self).__init__()\n",
    "        self.types = 0  # число уникальных ключей в распределении\n",
    "        self.tokens = 0  # общее количество всех слов в распределении\n",
    "        if iterable:\n",
    "            self.update(iterable)\n",
    "\n",
    "    def update(self, iterable):\n",
    "        # Обновляем распределение элементами из имеющегося \n",
    "        # итерируемого набора данных\n",
    "        for item in iterable:\n",
    "            if item in self:\n",
    "                self[item] += 1\n",
    "                self.tokens += 1\n",
    "            else:\n",
    "                self[item] = 1\n",
    "                self.types += 1\n",
    "                self.tokens += 1\n",
    "\n",
    "    def count(self, item):\n",
    "        # Возвращаем значение счетчика элемента, или 0\n",
    "        if item in self:\n",
    "            return self[item]\n",
    "        return 0\n",
    "\n",
    "    def return_random_word(self):\n",
    "        random_key = random.sample(self, 1)\n",
    "        # Другой способ:\n",
    "        # random.choice(histogram.keys())\n",
    "        return random_key[0]\n",
    "\n",
    "    def return_weighted_random_word(self):\n",
    "        # Сгенерировать псевдослучайное число между 0 и (n-1),\n",
    "        # где n - общее число слов\n",
    "        random_int = random.randint(0, self.tokens-1)\n",
    "        index = 0\n",
    "#         list_of_keys = \n",
    "        # вывести 'случайный индекс:', random_int\n",
    "        for key in self.keys():\n",
    "            index += self[key]\n",
    "            # вывести индекс\n",
    "            if(index > random_int):\n",
    "                # вывести list_of_keys[i]\n",
    "                return key"
   ]
  },
  {
   "cell_type": "markdown",
   "metadata": {},
   "source": [
    "В конструктор структуре Dictogram можно передать любой объект, по которому можно итерироваться. Элементами этого объекта будут слова для инициализации Dictogram, например, все слова из какой-нибудь книги. В данном случае мы ведем подсчет элементов, чтобы для обращения к какому-либо из них не нужно было пробегать каждый раз по всему набору данных.\n",
    "\n",
    "Мы также сделали две функции для возврата случайного слова. Одна функция выбирает случайный ключ в словаре, а другая, принимая во внимание число появлений каждого слова в тексте, возвращает нужное нам слово."
   ]
  },
  {
   "cell_type": "markdown",
   "metadata": {},
   "source": [
    "## Cтруктура цепи Маркова N-го порядка"
   ]
  },
  {
   "cell_type": "code",
   "execution_count": 3,
   "metadata": {
    "collapsed": true
   },
   "outputs": [],
   "source": [
    "def make_markov_model(order, data):\n",
    "    markov_model = dict()\n",
    "    for i in range(0, len(data)-order):\n",
    "        # Создаем окно\n",
    "        window = tuple(data[i: i+order])\n",
    "        # Добавляем в словарь\n",
    "        if window in markov_model:\n",
    "            # Присоединяем к уже существующему распределению\n",
    "            markov_model[window].update([data[i+order]])\n",
    "        else:\n",
    "            markov_model[window] = Dictogram([data[i+order]])\n",
    "    return markov_model"
   ]
  },
  {
   "cell_type": "markdown",
   "metadata": {},
   "source": [
    "## Предобработка текста"
   ]
  },
  {
   "cell_type": "code",
   "execution_count": 4,
   "metadata": {
    "collapsed": true
   },
   "outputs": [],
   "source": [
    "import re"
   ]
  },
  {
   "cell_type": "code",
   "execution_count": 5,
   "metadata": {},
   "outputs": [
    {
     "name": "stdout",
     "output_type": "stream",
     "text": [
      "he was an old man who fished alone in a skiff in the gulf stream and he had gone eighty-four days now without taking a fish END in the first forty days a boy had been with him END but after forty days without a fish the boy’s parents had told him that the old man was now definitely and finally salao which is the worst form of unlucky and the boy had gone at their orders in another boat which caught three good fish the first week END it made the boy sad to see the old man come in each day with his skiff empty and he always went down to help him carry either the coiled lines or the gaff and harpoon and the sail that was furled around the mast END the sail was patched with flour sacks and furled it looked like the flag of permanent defeat END the old man was thin and gaunt with deep wrinkles in the back of his neck END the brown blotches of the benevolent skin cancer the sun brings from its reflection on the tropic sea were on his cheeks END the blotches ran well down the sides of his face and his hands had the deep-creased scars from handling heavy fish on the cords END but none of these scars were fresh END they were as old as erosions in a fishless desert END everything about him was old except his eyes and they were the same color as the sea and were cheerful and undefeated END santiago END the boy said to him as they climbed the bank from where the skiff was hauled up END i could go with you again END we’ve made some money END the old man had taught the boy to fish and the boy loved him END no END the old man said END you’re with a lucky boat END stay with them END but remember how you went eighty-seven days without fish and then we caught big ones every day for three weeks END i remember END the old man said END i know you did not leave me because you doubted END it was papa made me leave END i am a boy and i must obey him END i know END the old man said END it is quite normal END he hasn’t much faith END no END the old man said END but we have END haven’t we? ye\n"
     ]
    }
   ],
   "source": [
    "text = open('oldman.txt', 'r', encoding='utf-8').read()\n",
    "text = re.sub('»|”|\\.', ' END', text)\n",
    "# переводим несколько последовательных вхождений END в одно\n",
    "text = re.sub('( END)+', ' END', text)\n",
    "# далее 'END' будет заменено на точку, что не имеет смысла, если перед ним стоит '?' либо '!'\n",
    "text = re.sub('\\? END', '?', text)\n",
    "text = re.sub('! END', '!', text)\n",
    "text = re.sub('«|“|,', '', text)\n",
    "text = re.sub('\\n', ' ', text)\n",
    "frags = [f.lower() if f != 'END' else f for f in text.split(' ') if f]\n",
    "print(' '.join(frags)[:2000])"
   ]
  },
  {
   "cell_type": "markdown",
   "metadata": {},
   "source": [
    "# Генерирование предложений"
   ]
  },
  {
   "cell_type": "code",
   "execution_count": 6,
   "metadata": {
    "collapsed": true
   },
   "outputs": [],
   "source": [
    "def generate_random_start(model):\n",
    "    # порядок модели\n",
    "    order = len(next(iter(model)))\n",
    "    if order == 1:\n",
    "        if ('END',) in model:\n",
    "            return (model[('END',)].return_weighted_random_word(),)\n",
    "    else:\n",
    "        # генерируем корректные начальные кортежи, то есть те, что являлись началом предложений в корпусе\n",
    "        end_keys = [t for t in list(model.keys()) if t[0] == 'END']\n",
    "        if end_keys:\n",
    "            random_int = random.randint(0, sum([sum(model[key].values()) for key in end_keys]) - 1)\n",
    "            index = 0\n",
    "            for key in end_keys:\n",
    "                index += sum(model[key].values())\n",
    "                if index > random_int:\n",
    "                    return key\n",
    "    return random.choice(list(model.keys()))\n",
    "\n",
    "\n",
    "def generate_random_sentence(length, model):\n",
    "    order = len(next(iter(model)))\n",
    "    if order == 1:\n",
    "        current_tuple = ('END',)\n",
    "    else:\n",
    "        current_tuple = generate_random_start(model)\n",
    "    sentence = [current_tuple]\n",
    "    i = 0\n",
    "    while i < length:\n",
    "        # если рассматриваемый кортеж является самым последним в тексте, то может возникнуть ошибка, ибо после него ничего нет\n",
    "        try:\n",
    "            current_dictogram = model[current_tuple]\n",
    "            random_weighted_word = current_dictogram.return_weighted_random_word()\n",
    "            current_tuple = current_tuple[1:] + (random_weighted_word,)\n",
    "            sentence.append(current_tuple)\n",
    "            i += 1\n",
    "        except:\n",
    "            # в случае ошибки генерируем случайный стартовый кортеж\n",
    "            new_start = generate_random_start(model)\n",
    "            j = 0\n",
    "            # следим за тем, чтобы длина предложения не превысила заданный порог\n",
    "            while j < order and i + j < length:\n",
    "                sentence.append(current_tuple[j:] + new_start[:j])\n",
    "                j += 1\n",
    "            i += order\n",
    "    sentence = [t[0] for t in sentence][1:]\n",
    "    sentence[0] = sentence[0].capitalize()\n",
    "    for i in range(1, len(sentence)):\n",
    "        # все слова после знаков окончания предложения выводим с большой буквы\n",
    "        try:\n",
    "            if sentence[i - 1] == 'END' or sentence[i - 1][-1] in ['?', '!']:\n",
    "                sentence[i] = sentence[i].capitalize()\n",
    "        except:\n",
    "            continue\n",
    "    sentence = ' '.join(sentence).replace(' END', '.')\n",
    "    # если в конце сгенерированного предложения нет знака окончания предложения, то нужно добавить точку\n",
    "    if sentence[-1] in ['.', '?', '!']:\n",
    "        return sentence\n",
    "    else:\n",
    "        return sentence + '.'"
   ]
  },
  {
   "cell_type": "markdown",
   "metadata": {},
   "source": [
    "# Проверка"
   ]
  },
  {
   "cell_type": "code",
   "execution_count": 6,
   "metadata": {},
   "outputs": [
    {
     "name": "stdout",
     "output_type": "stream",
     "text": [
      "I’ll eat some more for you. He ate the other part of the hook where the hand-forged hook projected from the head of the small tuna. The old man knew the breeze would last all night. The old man said. What did you catch? One the first day. One the second and two the third. Very good. If i cannot fish with you. I wish i could show him what a man can ask. Fish. He had sailed for two hours resting in the stern and lifted the carcass of the bonito by the tail and dropped it overboard. I don’t think i can eat an entire one. He said. Now i’ll let him eat it well. Eat it so that the small shrimps that were in it fell onto the planking of the skiff particles of phosphorus floated off and drifted slowly astern. He is beautiful and noble and knows no fear of anything. I killed him well. Besides he thought everything kills everything else in some way. Fishing kills me exactly as it keeps me alive. The boy said. Drink this. He said to himself. During the day he had taken as he died. The skiff was sailing well considering the handicaps and he steered with the tiller under his arm and soaked both his hands in a swinging motion and tried to gentle the fingers. But it was too early for that. He said. I must cushion the pull of the line showed he was swimming at a lesser depth. That did not necessarily mean that he would jump. But he said nothing of this to the bird who could not understand him anyway and who would learn about the hawks soon enough. Take a good rest small bird. He had come up so fast and absolutely without caution that he broke the surface of the blue water that was a mile deep. Go see your friend or maybe it’s your mother. The shark came in a pack and he could see their wide flattened shovel-pointed heads now and their white tipped wide pectoral fins. They were fresh and hard and he barely got the knife in. The shivering increased as he pulled in and he could see the glow of havana was not so strong so that he was pulling on the line and his left hand resting on the gunwale. Then he just watched the road. I must save all my strength now. Christ i did not know he was so big. I’ll kill him though. He was happy feeling the gentle pulling and then a harder pull when a sardine’s head must have been around ten o’clock at night. They were only perceptible at first as the light is in the sky ahead of.\n",
      "500\n"
     ]
    }
   ],
   "source": [
    "model = make_markov_model(3, frags)\n",
    "st = generate_random_sentence(500, model)\n",
    "print(st)\n",
    "# вычитаем 1 и как правило получаем заданную длину, ибо в большинстве случаев в конец вывода добавляется лишняя точка\n",
    "print(len(st.split()) + st.count('.') - 1)"
   ]
  },
  {
   "cell_type": "code",
   "execution_count": 7,
   "metadata": {},
   "outputs": [
    {
     "name": "stdout",
     "output_type": "stream",
     "text": [
      "The two sharks closed together and as he saw the one nearest him open his jaws and sink them into the silver side of the fish he raised the club high and brought it down heavy and slamming onto the top of the shark’s broad head. He felt the rubbery solidity as the club came down. But he felt the rigidity of bone too and he struck the shark once more hard across the point of the nose as he slid down from the fish. The other shark had been in and out and now came in again with his jaws wide. The old man could see pieces of the meat of the fish spilling white from the corner of his jaws as he bumped the fish and closed his jaws. He swung at him and hit only the head and the shark looked at him and wrenched the meat loose. The old man swung the club down on him again as he slipped away to swallow and hit only the heavy solid rubberiness. Come on galano. The old man said. Come in again. The shark came in a rush and the old man hit him as he shut his jaws. He hit him solidly and from as high up as he could raise the club. This time he felt the bone at the base of the brain and he hit him again in the same place while the shark tore the meat loose sluggishly and slid down from the fish. The old man watched for him to come again but neither shark showed. Then he saw one on the surface swimming in circles. He did not see the fin of the other. I could not expect to kill them he thought. I could have in my time. But i have hurt them both badly and neither one can feel very good. If i could have used a bat with two hands i could have killed the first one surely. Even now he thought. He did not want to look at the fish now. Drained of blood and awash he looked the colour of the silver backing of a minor and his stripes still showed. I shouldn’t have gone out so far fish. He said. Neither for you nor for me. I’m sorry fish. Now he said to himself. Look to the lashing on the knife and see if it has been cut. Then get your hand in order because there still is more to come. I wish i had a stone for the knife. The old man said after he had checked the lashing on the oar butt. I should have brought a stone. You should have brought many things he thought. But you did not bring them old man. Now is no time.\n",
      "500\n"
     ]
    }
   ],
   "source": [
    "model = make_markov_model(8, frags)\n",
    "st = generate_random_sentence(500, model)\n",
    "print(st)\n",
    "print(len(st.split()) + st.count('.') - 1)"
   ]
  },
  {
   "cell_type": "code",
   "execution_count": 8,
   "metadata": {},
   "outputs": [
    {
     "name": "stdout",
     "output_type": "stream",
     "text": [
      "But if a week. At his back of line stretching ahead if it up. He was clear as he found a man i could not care for all sharks hit the fish must have a long green turtles eating the water and all i clean it. In the wall and shoulders and started to eat them in the yankees of the water in time he had seen or i am sorry about the salt water. Now. They leaped. I had cut into the old man said. But i am sorry for now eating had to sleep. It once and to say. Is rougher where they had come again. That they came to keep his neck was santiago. I will see if there was barefooted. He tried to have left from the coast was still an hour it down on his left hand resting on it. Her aboard the boy and mine and it had the cast net and rested against his wife. He rammed the side to a virtue not trying with the wide silver belly up measuring the breeze brought it was inside. Yes. But suffering as they came to have never carried a piece and respected it as badly. The bird dipped again but it out. I will hurt him off. I can you are people in the boy and another rose it later the boy i do not tempered so much in the one hand. Now with two reserve coils of the water and then he thought. The fish was gone back bone spur hurt of africa that because it on his confidence the sun and i could not know that i never poor as the shark plowed over the thrust of her and from the one of the water and the big fish feed first day ends of good hold of the fingernails of each line before he said. He’s coming out very kind and went down again. To the two reserve coils. The boy saw the small then his hands before he had cut the back against his left hand with you were more beautiful. He was crying again slanting down. Sometimes they did you did not angry. He was no one foot on the other baits that he broke. Nothing to take your next to a right hand had sung at least he looked at the short time when they do exactly in it in the stern in the line burn that his right foot on starting it is sound in the wood of his shoulders now. He took two. It was fresh in and unbelievably heavy. Sometimes on the water. Then nothing. Cramp is hitting me again. There is the shark was clear up now. He heard the robber birds and eat it overboard and he was circling.\n",
      "500\n"
     ]
    }
   ],
   "source": [
    "model = make_markov_model(1, frags)\n",
    "st = generate_random_sentence(500, model)\n",
    "print(st)\n",
    "print(len(st.split()) + st.count('.') - 1)"
   ]
  },
  {
   "cell_type": "code",
   "execution_count": 11,
   "metadata": {},
   "outputs": [
    {
     "name": "stdout",
     "output_type": "stream",
     "text": [
      "The fisherman who was measuring him called. I believe it. The boy said. He went into the terrace and asked for a can of coffee. Hot and with plenty of milk and sugar in it. Anything more? No. Afterwards i will see what he can eat. What a fish it was. The proprietor said. There has never been such a fish. Those were two fine fish you took yesterday too. Damn my fish. The boy said and he started to cry again. Do you want a drink of any kind? The proprietor asked. No. The boy said. Tell them not to bother santiago. I’ll be back. Tell him how sorry i am. Thanks. The boy said. The boy carried the hot can of coffee up to the old man’s shack and sat by him until he woke. Once it looked as though he were waking. But he had gone back into heavy sleep and the boy had gone across the road to borrow some wood to heat the coffee. Finally the old man woke. Don’t sit up. The boy said. Drink this. He poured some of the coffee in a glass. The old man took it and drank it. They beat me manolin. He said. They truly beat me. He didn’t beat you. Not the fish. No. Truly. It was afterwards. Pedrico is looking after the skiff and the gear. What do you want done with the head? Let pedrico chop it up to use in fish traps. And the spear? You keep it if you want it. I want it. The boy said. Now we must make our plans about the other things. Did they search for me? Of course. With coast guard and with planes. The ocean is very big and a skiff is small and hard to see. The old man said. He noticed how pleasant it was to have someone to talk to instead of speaking only to himself and to the sea. I missed you. He said. What did you catch? One the first day. One the second and two the third. Very good. Now we fish together again. No. I am not lucky. I am not lucky anymore. The hell with luck. The boy said. I’ll bring the luck with me. What will your family say? I do not care. I caught two yesterday. But we will fish together now for i still have much to learn. We must get a good killing lance and always have it on board. You can make the blade from a spring leaf from an old ford. We can grind it in.\n",
      "500\n"
     ]
    }
   ],
   "source": [
    "model = make_markov_model(15, frags)\n",
    "st = generate_random_sentence(500, model)\n",
    "print(st)\n",
    "print(len(st.split()) + st.count('.') - 1)"
   ]
  },
  {
   "cell_type": "markdown",
   "metadata": {},
   "source": [
    "Как видно, все работает отлично, из четырех построенных моделей для порядка 8 получилось даже что-то достаточно осмысленное."
   ]
  }
 ],
 "metadata": {
  "kernelspec": {
   "display_name": "Python 3",
   "language": "python",
   "name": "python3"
  },
  "language_info": {
   "codemirror_mode": {
    "name": "ipython",
    "version": 3
   },
   "file_extension": ".py",
   "mimetype": "text/x-python",
   "name": "python",
   "nbconvert_exporter": "python",
   "pygments_lexer": "ipython3",
   "version": "3.6.3"
  }
 },
 "nbformat": 4,
 "nbformat_minor": 2
}
